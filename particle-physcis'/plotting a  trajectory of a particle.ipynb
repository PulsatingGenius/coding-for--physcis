{
 "cells": [
  {
   "cell_type": "markdown",
   "metadata": {
    "colab_type": "text",
    "id": "mug_MpPEExpa"
   },
   "source": [
    "# Plotting a trajectory of a particle\n",
    "\n",
    "\n",
    "\n",
    "[Here](http://hyperphysics.phy-astr.gsu.edu/hbase/mot.html) is a link to the Hyperphysics section of kinematics, we will be coding up these equations.\n",
    "\n",
    "[Here](https://www.khanacademy.org/science/physics/one-dimensional-motion/kinematic-formulas/a/what-are-the-kinematic-formulas) is a link to the derivation of those equations, also worth a read to brush up on your kinematics.\n",
    "\n"
   ]
  },
  {
   "cell_type": "markdown",
   "metadata": {
    "colab_type": "text",
    "id": "Ve9a2hazbIU7"
   },
   "source": [
    "First, we will import the two libraries we used earlier, Numpy and Matplotlib. These will let us do some basic maths, and set up our plot. "
   ]
  },
  {
   "cell_type": "code",
   "execution_count": null,
   "metadata": {
    "colab": {},
    "colab_type": "code",
    "id": "h2ucdCa8D3J0"
   },
   "outputs": [],
   "source": [
    "import numpy as np\n",
    "import matplotlib.pyplot as plt"
   ]
  },
  {
   "cell_type": "markdown",
   "metadata": {
    "colab_type": "text",
    "id": "pBPGb_4GbtuP"
   },
   "source": [
    "We will then set up some initial parameters. We are going to simulate a projectile launched from the ground at an angle and plot the trajectory. \n",
    "\n",
    "We will define everything in separate 'x' and 'y' dimensions, and simply sum the results.\n",
    "\n",
    "Firstly, we define the acceleration due to gravity in the x and y direction in units of m/s^2:"
   ]
  },
  {
   "cell_type": "code",
   "execution_count": null,
   "metadata": {
    "colab": {},
    "colab_type": "code",
    "id": "0ig0QMObcTyM"
   },
   "outputs": [],
   "source": [
    "a_x = 0\n",
    "a_y = -9.81 # note the sign of acceleration is downwards"
   ]
  },
  {
   "cell_type": "markdown",
   "metadata": {
    "colab_type": "text",
    "id": "e0pxp-TDcmOS"
   },
   "source": [
    "Now we will choose an initial velocity in m/s, and an angle we want to launch the projectile from in degrees:"
   ]
  },
  {
   "cell_type": "code",
   "execution_count": null,
   "metadata": {
    "colab": {},
    "colab_type": "code",
    "id": "gm7fXlrecueD"
   },
   "outputs": [],
   "source": [
    "v_i = 100\n",
    "angle = 60"
   ]
  },
  {
   "cell_type": "markdown",
   "metadata": {
    "colab_type": "text",
    "id": "wr3EkLtudKz0"
   },
   "source": [
    "Next, we break down this velocity into an x and  y component using trigonometry. Take a look at the figure below and check that you can see the equations in Python matching those in the plot:\n",
    "\n",
    "![alt text](https://i.imgur.com/uks7IpN.png)\n",
    "\n",
    "Here is where we call `Numpy`, note that `np.sin(angle)` will assume the angle is in radians but we defined *our* angle in degrees. Luckily `Numpy` *also* has a function to convert degrees into radians called `np.deg2rad(angle)`.\n",
    "\n",
    "Putting these two functions together:\n",
    "\n",
    "**Note:** When presented with nested brackets, Python will start on the inside and work outwards."
   ]
  },
  {
   "cell_type": "code",
   "execution_count": null,
   "metadata": {
    "colab": {},
    "colab_type": "code",
    "id": "sXdmydA76iQy"
   },
   "outputs": [],
   "source": []
  },
  {
   "cell_type": "code",
   "execution_count": null,
   "metadata": {
    "colab": {},
    "colab_type": "code",
    "id": "0KHaItNrdpUg"
   },
   "outputs": [],
   "source": [
    "v_ix = v_i * np.cos(np.deg2rad(angle))\n",
    "v_iy = v_i * np.sin(np.deg2rad(angle))"
   ]
  },
  {
   "cell_type": "markdown",
   "metadata": {
    "colab_type": "text",
    "id": "T2fZgB8oeU3H"
   },
   "source": [
    "We now need to create a list of points, or timestamps, at which to calculate the x/y position of the projectile as time passes.\n",
    "\n",
    "We work out how long the projectile will fly for in seconds before it hits the ground (`t_max`), and create a list of interval size `t_step` between 0 and that time.\n",
    "\n",
    "Using the time-of-flight equation: \n",
    "\n",
    "![alt text](https://i.imgur.com/4ocn4aU.png)"
   ]
  },
  {
   "cell_type": "code",
   "execution_count": null,
   "metadata": {
    "colab": {},
    "colab_type": "code",
    "id": "MgV8uHhyevJF"
   },
   "outputs": [],
   "source": [
    "t_max = 2 * v_i * np.sin(np.deg2rad(angle)) / -a_y\n",
    "t_step = 0.01\n",
    "timestamps = np.arange(0, t_max, t_step)"
   ]
  },
  {
   "cell_type": "markdown",
   "metadata": {
    "colab_type": "text",
    "id": "NrTYvbIxfVHm"
   },
   "source": [
    "Now, we take those time stamps and plug them into the equation below (once for x and once for y) along with our inital conditions:\n",
    "\n",
    "![alt text](https://i.imgur.com/krbihbA.png)"
   ]
  },
  {
   "cell_type": "code",
   "execution_count": null,
   "metadata": {
    "colab": {},
    "colab_type": "code",
    "id": "keA4zv1AfqdV"
   },
   "outputs": [],
   "source": [
    "x = v_ix * timestamps + 0.5 * a_x * timestamps**2 \n",
    "y = v_iy * timestamps + 0.5 * a_y * timestamps**2"
   ]
  },
  {
   "cell_type": "markdown",
   "metadata": {
    "colab_type": "text",
    "id": "HcooVQrKgCda"
   },
   "source": [
    "Lastly, we set up a plot like in the introductory Notebook and plot our results!\n",
    "\n"
   ]
  },
  {
   "cell_type": "code",
   "execution_count": null,
   "metadata": {
    "colab": {},
    "colab_type": "code",
    "id": "7Uq53KtggJb2"
   },
   "outputs": [],
   "source": [
    "fig, ax = plt.subplots()\n",
    "ax.plot(x, y)\n",
    "plt.show()"
   ]
  },
  {
   "cell_type": "markdown",
   "metadata": {
    "colab_type": "text",
    "id": "XlPfHer4gY7y"
   },
   "source": [
    "The entire script together is shown below. I've added extra comments to remind us what is going on, this is good practice for when we start writing more complicated code! I've also added a few extra lines in the plotting part to make our plot look nicer.\n",
    "\n",
    "The curly brackets `{}` in the `plt.title()` line is a way to tell Python to expect some formatting after the string, in this case we want to insert the value of `angle` in the title."
   ]
  },
  {
   "cell_type": "code",
   "execution_count": null,
   "metadata": {
    "colab": {},
    "colab_type": "code",
    "id": "g9THFF8Agcqn"
   },
   "outputs": [],
   "source": [
    "import numpy as np\n",
    "import matplotlib.pyplot as plt\n",
    "\n",
    "# set up intial conditions, all SI units\n",
    "a_x = 0\n",
    "a_y = -9.81 # note the sign of acceleration is downwards\n",
    "\n",
    "v_i = 100\n",
    "angle = 45\n",
    "\n",
    "# work out initial velocities in x/y\n",
    "v_ix = v_i * np.cos(np.deg2rad(angle))\n",
    "v_iy = v_i * np.sin(np.deg2rad(angle))\n",
    "\n",
    "# set up a list of timestamps to evaluate the velocity\n",
    "t_max = 2 * v_i * np.sin(np.deg2rad(angle)) / -a_y\n",
    "t_step = 0.01\n",
    "timestamps = np.arange(0, t_max, t_step)\n",
    "\n",
    "# use kinematic equation to work out the x and y velocities\n",
    "x = v_ix * timestamps + (0.5 * a_x * timestamps**2)\n",
    "y = v_iy * timestamps + (0.5 * a_y * timestamps**2)\n",
    "\n",
    "# plot the results!\n",
    "fig, ax = plt.subplots()\n",
    "ax.plot(x, y)\n",
    "plt.xlabel('Distance / m')\n",
    "plt.ylabel('Height / m')\n",
    "plt.title('The trajectory of a particle launched at {} degrees'.format(angle))\n",
    "plt.show()"
   ]
  },
  {
   "cell_type": "markdown",
   "metadata": {
    "colab_type": "text",
    "id": "dC8cx8WvJy3Z"
   },
   "source": [
    "# Multiple Projectiles\n",
    "\n",
    "Lets say we wanted to measure the distance our projectile travelled for a variety of starting conditions such as various angles, heights, gravity, or initial velocities.\n",
    "\n",
    "We *could* simply run the code over and over and manually change the code each time ... but we can do better than that. Plus it would be nice to plot all the results at once for easy comparison.\n",
    "\n",
    "Here's how we can adapt the above code to plot a few different angles at once. I'll also save the maximum distance for each angle, and print the results.\n",
    "\n",
    "As before I'll go through the bits of code one at a time, and then put it all together. It's very similar to the previous example but we're adding a loop so we can plot a few trajectories on one graph."
   ]
  },
  {
   "cell_type": "markdown",
   "metadata": {
    "colab_type": "text",
    "id": "q-vFfNk5j58T"
   },
   "source": [
    "As before, we'll start with some imports:"
   ]
  },
  {
   "cell_type": "code",
   "execution_count": null,
   "metadata": {
    "colab": {},
    "colab_type": "code",
    "id": "nZLYzD3aj_Nq"
   },
   "outputs": [],
   "source": [
    "import numpy as np\n",
    "import matplotlib.pyplot as plt"
   ]
  },
  {
   "cell_type": "markdown",
   "metadata": {
    "colab_type": "text",
    "id": "UrvNyAZNkD-y"
   },
   "source": [
    "We then define some physical values for our initial conditions:"
   ]
  },
  {
   "cell_type": "code",
   "execution_count": null,
   "metadata": {
    "colab": {},
    "colab_type": "code",
    "id": "kxbo3RLWkWVB"
   },
   "outputs": [],
   "source": [
    "v_i = 100\n",
    "a_x = 0\n",
    "a_y = -9.81"
   ]
  },
  {
   "cell_type": "markdown",
   "metadata": {
    "colab_type": "text",
    "id": "kxh5DW9okdxR"
   },
   "source": [
    "Now for the angles. Before we had a single value, this time we're going to create a list of angles to use. We will use `np.arange()` which creates evenly spaced values between two numbers at a given interval. In this case we start at 0 degrees and end at 90 degrees in intervals of 10. See [here](https://docs.scipy.org/doc/numpy-1.15.0/reference/generated/numpy.arange.html) for more information.\n"
   ]
  },
  {
   "cell_type": "code",
   "execution_count": null,
   "metadata": {
    "colab": {},
    "colab_type": "code",
    "id": "jFvE3__Eki1p"
   },
   "outputs": [],
   "source": [
    "angles = np.arange(0,90,10)\n",
    "\n",
    "print (angles)"
   ]
  },
  {
   "cell_type": "markdown",
   "metadata": {
    "colab_type": "text",
    "id": "Gg-qe5ZAk9py"
   },
   "source": [
    "Now for the loop. Last time we simply called the equations for our initial conditions along with the timestamps and created the single plot.\n",
    "\n",
    "*This* time we're going to loop through each value of angle, and create a plot for each one and add it to the graph. \n",
    "\n",
    "Because this is a loop, we can't break it up into multiple cells, but I've added a lot of comments to help understand each line. "
   ]
  },
  {
   "cell_type": "code",
   "execution_count": null,
   "metadata": {
    "colab": {},
    "colab_type": "code",
    "id": "Eb1py-Vplu5m"
   },
   "outputs": [],
   "source": [
    "# lets loop through each of those angle values and work out the trajectory\n",
    "for i in range(len(angles)):\n",
    "    \n",
    "    # each projectile gets a unique set of timestamps, so that each trajectory curve has 100 samples\n",
    "    t_max = 2 * v_i * np.sin(np.deg2rad(angles[i])) / -a_y\n",
    "    t_step = 0.01\n",
    "    timestamps = np.arange(0, t_max, t_step)\n",
    "    \n",
    "    # we then work out the x/y coordinates of our projectile at each timestamp\n",
    "    # this is identical as before, but this time we're just picking the i-th angle from the list we made earlier\n",
    "    x = v_i * timestamps * np.cos(np.deg2rad(angles[i])) + (0.5 * a_x * timestamps**2)\n",
    "    y = v_i * timestamps * np.sin(np.deg2rad(angles[i])) + (0.5 * a_y * timestamps**2)\n",
    "    \n",
    "    # add that data to the plot, give it a label\n",
    "    plt.plot(x, y, label = angles[i])\n",
    "    # the loop will now repeat for the next angle until we reach the last angle\n",
    "    \n",
    "plt.legend()\n",
    "plt.xlabel('Distance / m')\n",
    "plt.ylabel('Height / m')\n",
    "plt.title('The trajectory of a particle launched at various angles')\n",
    "plt.xlim((0,1200))\n",
    "plt.show()"
   ]
  },
  {
   "cell_type": "markdown",
   "metadata": {
    "colab_type": "text",
    "id": "RUJqy0OYpr6n"
   },
   "source": [
    "You might think that the last line in the loop above will show a new plot each time in the loop, but it simply means 'add this data to the plot'.\n",
    "\n",
    "We then overwrite the values of `x` and `y` in the next loop iteration for the next angle, and add *that* new data to the plot. Then in the end we plot all the data together.\n",
    "\n",
    "You may also have noticed the extra bit of code `label = angles[i]`. This gives each line a label, in this case the angle, and we can add these labels to the plot later.\n",
    "\n",
    "Once the loop is finished we can finally show the plot on the screen with `plt.show()`. I've also added a few extra formatting things like axis labels and a title like before. The `matplotlib` library is clever and auto asigns a new colour to each plot for us.\n",
    "\n",
    "The line `plt.legend()` simply turns on the legend, and it will display the labels we assigned earlier."
   ]
  },
  {
   "cell_type": "markdown",
   "metadata": {
    "colab_type": "text",
    "id": "GiUAyU75q_De"
   },
   "source": [
    "Also as before, I've put everything together in one cell and deleted some of the comments:"
   ]
  },
  {
   "cell_type": "code",
   "execution_count": null,
   "metadata": {
    "colab": {},
    "colab_type": "code",
    "id": "i3JH1_lFKq1e"
   },
   "outputs": [],
   "source": [
    "v_i = 100 \n",
    "a_y = -9.81\n",
    "a_x = 0\n",
    "\n",
    "angles = np.arange(0,90,10)\n",
    "\n",
    "# create an empty array, we'll save a value here for each projectile\n",
    "max_distance = []\n",
    "\n",
    "# lets loop through each of those angle values and work out the trajectory\n",
    "for i in range(len(angles)):\n",
    "    \n",
    "    # each projectile gets a unique set of timestamps, so that each one is sampled 100 times\n",
    "    t_max = 2 * v_i * np.sin(np.deg2rad(angles[i])) / -a_y\n",
    "    t_step = 0.01\n",
    "    timestamps = np.arange(0, t_max, t_step)\n",
    "    \n",
    "    # we then work out the x/y coordinates of our projectile at each timestamp for that angle\n",
    "    x = v_i * timestamps * np.cos(np.deg2rad(angles[i])) + (0.5 * a_x * timestamps ** 2)\n",
    "    y = v_i * timestamps * np.sin(np.deg2rad(angles[i])) + (0.5 * a_y * timestamps ** 2)\n",
    "    \n",
    "    # this little 'if' loop will take the last x=position of each projectile so we can compare how far they landed\n",
    "    # BUT, the 1st angle is 0 degrees and doesn't go anyway, so I need to explcity put a '0' as the 1st value in 'max_distances'\n",
    "    # for all the rest I can just take the last item in the list of x-distances with x[-1]\n",
    "    # 'append' just means add the end of the list\n",
    "    if angles[i] == 0:\n",
    "        max_distance.append(0)\n",
    "    else:\n",
    "        max_distance.append(x[-1])\n",
    "    \n",
    "    # add that data to the plot, give it a label\n",
    "    plt.plot(x, y, label = angles[i])\n",
    "\n",
    "\n",
    "plt.legend()\n",
    "plt.xlabel('Distance / m')\n",
    "plt.ylabel('Height / m')\n",
    "plt.title('The trajectory of a particle launched at various angles')\n",
    "plt.xlim((0,1200))\n",
    "plt.show()"
   ]
  },
  {
   "cell_type": "markdown",
   "metadata": {
    "colab_type": "text",
    "id": "c6VDcUB8rcww"
   },
   "source": [
    "Lastly, remember we saved how far each projectile went? We can print these results here by looping through that array:"
   ]
  },
  {
   "cell_type": "code",
   "execution_count": null,
   "metadata": {
    "colab": {},
    "colab_type": "code",
    "id": "G8GG3pKrPwvW"
   },
   "outputs": [],
   "source": [
    "# print a statement by looping through the list of angles and max_distances\n",
    "# we also use another Numpy function to round the distance value to 2 dp for neatness\n",
    "for i in range(len(angles)):\n",
    "    print ('Projectile launched at {a} degrees reached {b} meters'.format(a=angles[i], b=np.round(max_distance[i],2)))"
   ]
  }
 ],
 "metadata": {
  "colab": {
   "collapsed_sections": [],
   "name": "Copy of Part_2_Simple_Projectile.ipynb",
   "private_outputs": true,
   "provenance": [
    {
     "file_id": "16LxVE0Kmi353HvLBVx1OMj_dISlVxGRr",
     "timestamp": 1598850710116
    }
   ]
  },
  "kernelspec": {
   "display_name": "Python 3",
   "language": "python",
   "name": "python3"
  },
  "language_info": {
   "codemirror_mode": {
    "name": "ipython",
    "version": 3
   },
   "file_extension": ".py",
   "mimetype": "text/x-python",
   "name": "python",
   "nbconvert_exporter": "python",
   "pygments_lexer": "ipython3",
   "version": "3.7.8"
  }
 },
 "nbformat": 4,
 "nbformat_minor": 1
}
